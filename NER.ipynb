{
 "cells": [
  {
   "cell_type": "code",
   "execution_count": 19,
   "id": "0f8fe2ae",
   "metadata": {},
   "outputs": [
    {
     "name": "stdout",
     "output_type": "stream",
     "text": [
      "Enter the text:\"Amazon is hiring a Data Analyst with experience in SQL and Tableau. The role is in Seattle, WA.\"\n",
      "Named Entities:\n",
      "Text: Amazon, Label: ORG\n",
      "Text: Data, Label: ORG\n",
      "Text: SQL, Label: GPE\n",
      "Text: Tableau, Label: GPE\n",
      "Text: Seattle, Label: GPE\n"
     ]
    }
   ],
   "source": [
    "import spacy\n",
    "from spacy.training import Example\n",
    "from spacy import displacy\n",
    "train_data = [\n",
    "    (\n",
    "        \"We are hiring a Software Engineer with expertise in Python and Java.\"\n",
    "        \"The position is based in San Francisco, CA.\",\n",
    "        {\n",
    "            \"entities\": [\n",
    "                (15, 32, \"JOB_TITLE\"), \n",
    "                (51, 57, \"SKILL\"),      \n",
    "                (62, 66, \"SKILL\"),      \n",
    "                (91, 106, \"LOCATION\"),  \n",
    "            ]\n",
    "        }\n",
    "    ),\n",
    "    (\n",
    "        \"Looking for a Data Scientist proficient in Machine Learning and SQL.\" \n",
    "        \"The role is at Google in Mountain View, CA.\",\n",
    "        {\n",
    "            \"entities\": [\n",
    "                (14, 28, \"JOB_TITLE\"), \n",
    "                (46, 64, \"SKILL\"),      \n",
    "                (69, 72, \"SKILL\"),      \n",
    "                (88, 94, \"COMPANY\"),    \n",
    "                (98, 114, \"LOCATION\"), \n",
    "            ]\n",
    "        }\n",
    "    ),\n",
    "]\n",
    "nlp = spacy.load(\"en_core_web_sm\") \n",
    "if \"ner\" not in nlp.pipe_names:\n",
    "    ner = nlp.add_pipe(\"ner\")\n",
    "ner.add_label(\"JOB_TITLE\")\n",
    "ner.add_label(\"SKILL\")\n",
    "ner.add_label(\"LOCATION\")\n",
    "ner.add_label(\"COMPANY\")\n",
    "examples = []\n",
    "for text, annotations in train_data:\n",
    "    doc = nlp.make_doc(text)\n",
    "    examples.append(Example.from_dict(doc, annotations))\n",
    "nlp.to_disk(\"job_ner_model\")\n",
    "nlp = spacy.load(\"job_ner_model\")\n",
    "test_text = input(\"Enter the text:\")\n",
    "doc = nlp(test_text)\n",
    "print(\"Named Entities:\")\n",
    "for ent in doc.ents:\n",
    "    print(f\"Text: {ent.text}, Label: {ent.label_}\")"
   ]
  },
  {
   "cell_type": "code",
   "execution_count": null,
   "id": "fee9ae8e",
   "metadata": {},
   "outputs": [],
   "source": []
  },
  {
   "cell_type": "code",
   "execution_count": null,
   "id": "70b62f8b",
   "metadata": {},
   "outputs": [],
   "source": []
  },
  {
   "cell_type": "code",
   "execution_count": null,
   "id": "5b281f16",
   "metadata": {},
   "outputs": [],
   "source": []
  },
  {
   "cell_type": "code",
   "execution_count": null,
   "id": "a260b758",
   "metadata": {},
   "outputs": [],
   "source": []
  },
  {
   "cell_type": "code",
   "execution_count": null,
   "id": "74d5e671",
   "metadata": {},
   "outputs": [],
   "source": []
  }
 ],
 "metadata": {
  "kernelspec": {
   "display_name": "Python 3 (ipykernel)",
   "language": "python",
   "name": "python3"
  },
  "language_info": {
   "codemirror_mode": {
    "name": "ipython",
    "version": 3
   },
   "file_extension": ".py",
   "mimetype": "text/x-python",
   "name": "python",
   "nbconvert_exporter": "python",
   "pygments_lexer": "ipython3",
   "version": "3.11.4"
  }
 },
 "nbformat": 4,
 "nbformat_minor": 5
}
